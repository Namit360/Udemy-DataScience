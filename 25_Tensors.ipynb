{
  "nbformat": 4,
  "nbformat_minor": 0,
  "metadata": {
    "colab": {
      "provenance": []
    },
    "kernelspec": {
      "name": "python3",
      "display_name": "Python 3"
    },
    "language_info": {
      "name": "python"
    }
  },
  "cells": [
    {
      "cell_type": "code",
      "execution_count": 1,
      "metadata": {
        "id": "-NKhGGqeWYiV"
      },
      "outputs": [],
      "source": [
        "import numpy as np"
      ]
    },
    {
      "cell_type": "markdown",
      "source": [
        "## Creating a Tensor"
      ],
      "metadata": {
        "id": "RmLDQnXjgypa"
      }
    },
    {
      "cell_type": "code",
      "source": [
        "t1 = np.array([[5,8,3],[9,4,2]])\n",
        "t1"
      ],
      "metadata": {
        "colab": {
          "base_uri": "https://localhost:8080/"
        },
        "id": "VB1zd6uCgyZe",
        "outputId": "6b8807a3-703d-490e-95a5-392bbb380a14"
      },
      "execution_count": 2,
      "outputs": [
        {
          "output_type": "execute_result",
          "data": {
            "text/plain": [
              "array([[5, 8, 3],\n",
              "       [9, 4, 2]])"
            ]
          },
          "metadata": {},
          "execution_count": 2
        }
      ]
    },
    {
      "cell_type": "code",
      "source": [
        "t2 = np.array([[3,6,9],[7,5,3]])\n",
        "t2"
      ],
      "metadata": {
        "colab": {
          "base_uri": "https://localhost:8080/"
        },
        "id": "CwSgiaA2gwJs",
        "outputId": "860a7b46-805e-4b76-c40f-1aacfd96e4aa"
      },
      "execution_count": 3,
      "outputs": [
        {
          "output_type": "execute_result",
          "data": {
            "text/plain": [
              "array([[3, 6, 9],\n",
              "       [7, 5, 3]])"
            ]
          },
          "metadata": {},
          "execution_count": 3
        }
      ]
    },
    {
      "cell_type": "code",
      "source": [
        "t = np.array([t1,t2])\n",
        "t"
      ],
      "metadata": {
        "colab": {
          "base_uri": "https://localhost:8080/"
        },
        "id": "sWNSfEpygqjl",
        "outputId": "2af6fdbb-9661-4bb6-e1e2-de5ed7d02163"
      },
      "execution_count": 4,
      "outputs": [
        {
          "output_type": "execute_result",
          "data": {
            "text/plain": [
              "array([[[5, 8, 3],\n",
              "        [9, 4, 2]],\n",
              "\n",
              "       [[3, 6, 9],\n",
              "        [7, 5, 3]]])"
            ]
          },
          "metadata": {},
          "execution_count": 4
        }
      ]
    },
    {
      "cell_type": "markdown",
      "source": [
        "##Checking its Shape"
      ],
      "metadata": {
        "id": "ZySAKr12g7kO"
      }
    },
    {
      "cell_type": "code",
      "source": [
        "t.shape"
      ],
      "metadata": {
        "colab": {
          "base_uri": "https://localhost:8080/"
        },
        "id": "VsKnHCP9g-Nc",
        "outputId": "0d7c5945-a0ca-4fa3-eaa5-7502829de4eb"
      },
      "execution_count": 5,
      "outputs": [
        {
          "output_type": "execute_result",
          "data": {
            "text/plain": [
              "(2, 2, 3)"
            ]
          },
          "metadata": {},
          "execution_count": 5
        }
      ]
    },
    {
      "cell_type": "markdown",
      "source": [
        "## Manually creating a Tensor"
      ],
      "metadata": {
        "id": "M2Ah4xlxhAX1"
      }
    },
    {
      "cell_type": "code",
      "source": [
        "t_manual = np.array([[[7,4,1],[8,5,2]],[[9,6,3],[1,5,9]]])\n",
        "t_manual"
      ],
      "metadata": {
        "colab": {
          "base_uri": "https://localhost:8080/"
        },
        "id": "EB5tXwoAhDXD",
        "outputId": "eff83f08-d5ec-4797-e857-a385c87f31c8"
      },
      "execution_count": 6,
      "outputs": [
        {
          "output_type": "execute_result",
          "data": {
            "text/plain": [
              "array([[[7, 4, 1],\n",
              "        [8, 5, 2]],\n",
              "\n",
              "       [[9, 6, 3],\n",
              "        [1, 5, 9]]])"
            ]
          },
          "metadata": {},
          "execution_count": 6
        }
      ]
    },
    {
      "cell_type": "code",
      "source": [],
      "metadata": {
        "id": "4HlYNiN8iXhc"
      },
      "execution_count": null,
      "outputs": []
    }
  ]
}