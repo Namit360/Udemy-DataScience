{
  "nbformat": 4,
  "nbformat_minor": 0,
  "metadata": {
    "colab": {
      "provenance": [],
      "collapsed_sections": [
        "ezXbdKLLcYDn"
      ]
    },
    "kernelspec": {
      "name": "python3",
      "display_name": "Python 3"
    },
    "language_info": {
      "name": "python"
    }
  },
  "cells": [
    {
      "cell_type": "code",
      "execution_count": 1,
      "metadata": {
        "id": "wV6dMnFobuH0"
      },
      "outputs": [],
      "source": [
        "import numpy as np\n",
        "from sklearn.model_selection import train_test_split"
      ]
    },
    {
      "cell_type": "markdown",
      "source": [
        "##Generate Data to Split"
      ],
      "metadata": {
        "id": "ezXbdKLLcYDn"
      }
    },
    {
      "cell_type": "code",
      "source": [
        "a= np.arange(1,101)   # same as range"
      ],
      "metadata": {
        "id": "z5yr0wNtceyv"
      },
      "execution_count": 2,
      "outputs": []
    },
    {
      "cell_type": "code",
      "source": [
        "a"
      ],
      "metadata": {
        "colab": {
          "base_uri": "https://localhost:8080/"
        },
        "id": "Ldhl7SNzcgRg",
        "outputId": "93290cdd-abb0-40ca-b423-aef4d2b1d84b"
      },
      "execution_count": 3,
      "outputs": [
        {
          "output_type": "execute_result",
          "data": {
            "text/plain": [
              "array([  1,   2,   3,   4,   5,   6,   7,   8,   9,  10,  11,  12,  13,\n",
              "        14,  15,  16,  17,  18,  19,  20,  21,  22,  23,  24,  25,  26,\n",
              "        27,  28,  29,  30,  31,  32,  33,  34,  35,  36,  37,  38,  39,\n",
              "        40,  41,  42,  43,  44,  45,  46,  47,  48,  49,  50,  51,  52,\n",
              "        53,  54,  55,  56,  57,  58,  59,  60,  61,  62,  63,  64,  65,\n",
              "        66,  67,  68,  69,  70,  71,  72,  73,  74,  75,  76,  77,  78,\n",
              "        79,  80,  81,  82,  83,  84,  85,  86,  87,  88,  89,  90,  91,\n",
              "        92,  93,  94,  95,  96,  97,  98,  99, 100])"
            ]
          },
          "metadata": {},
          "execution_count": 3
        }
      ]
    },
    {
      "cell_type": "code",
      "source": [
        "b = np.arange(501,600)\n",
        "b"
      ],
      "metadata": {
        "colab": {
          "base_uri": "https://localhost:8080/"
        },
        "id": "91dlHZDDcgBm",
        "outputId": "be7f469a-034b-4b8d-ee9c-9304df8a2f74"
      },
      "execution_count": 4,
      "outputs": [
        {
          "output_type": "execute_result",
          "data": {
            "text/plain": [
              "array([501, 502, 503, 504, 505, 506, 507, 508, 509, 510, 511, 512, 513,\n",
              "       514, 515, 516, 517, 518, 519, 520, 521, 522, 523, 524, 525, 526,\n",
              "       527, 528, 529, 530, 531, 532, 533, 534, 535, 536, 537, 538, 539,\n",
              "       540, 541, 542, 543, 544, 545, 546, 547, 548, 549, 550, 551, 552,\n",
              "       553, 554, 555, 556, 557, 558, 559, 560, 561, 562, 563, 564, 565,\n",
              "       566, 567, 568, 569, 570, 571, 572, 573, 574, 575, 576, 577, 578,\n",
              "       579, 580, 581, 582, 583, 584, 585, 586, 587, 588, 589, 590, 591,\n",
              "       592, 593, 594, 595, 596, 597, 598, 599])"
            ]
          },
          "metadata": {},
          "execution_count": 4
        }
      ]
    },
    {
      "cell_type": "markdown",
      "source": [
        "##Split the Data"
      ],
      "metadata": {
        "id": "q3z_4vxxchK-"
      }
    },
    {
      "cell_type": "code",
      "source": [
        "train_test_split(a) # split train and test data arrays respectively"
      ],
      "metadata": {
        "colab": {
          "base_uri": "https://localhost:8080/"
        },
        "id": "Cx5XyidNcmJd",
        "outputId": "c5913850-9894-483b-976e-be393f18ef9d"
      },
      "execution_count": 5,
      "outputs": [
        {
          "output_type": "execute_result",
          "data": {
            "text/plain": [
              "[array([ 65,  45,  74,  33,  84,  89,  55,  48,  90,   3,  18,  23,  51,\n",
              "         60,  49,  57,  62,  78,  80,  67,  88,  31,  93,  29,  46,  75,\n",
              "         95,  58,  76,  26,  22,  43,  54,  77,  10,  37,  28,   7,  39,\n",
              "         13,   8,  50,  70,   4,  72,  15,  81,  69,  44,  86,  20,  99,\n",
              "         16,  79,  68,  41,  94,  17,  92,   2,  56,  66,  91,  19,  38,\n",
              "         87,  34, 100,  71,  53,  85,  14,  36,  21,  35]),\n",
              " array([27,  6, 24, 30, 63, 40, 64, 25, 97, 32, 59, 11, 47, 83, 98, 96, 52,\n",
              "        61,  5,  9, 73, 82, 12, 42,  1])]"
            ]
          },
          "metadata": {},
          "execution_count": 5
        }
      ]
    },
    {
      "cell_type": "code",
      "source": [
        "a_train, a_test= train_test_split(a, test_size =0.2) #store train and test data"
      ],
      "metadata": {
        "id": "OowAVeAjcmF8"
      },
      "execution_count": 12,
      "outputs": []
    },
    {
      "cell_type": "code",
      "source": [
        "b_train, b_test= train_test_split(b, test_size =0.2)"
      ],
      "metadata": {
        "id": "uxiGZBkcckx2"
      },
      "execution_count": 13,
      "outputs": []
    },
    {
      "cell_type": "code",
      "source": [
        "# can also use\n",
        "a_train, a_test, b_train, b_test = train_test_split(a, b, test_size =0.2, random_state = 42)"
      ],
      "metadata": {
        "id": "2foaH_6EhXqE"
      },
      "execution_count": null,
      "outputs": []
    },
    {
      "cell_type": "markdown",
      "source": [
        "##Explore Results"
      ],
      "metadata": {
        "id": "t_oQyBPtebbg"
      }
    },
    {
      "cell_type": "code",
      "source": [
        "a_train.shape, a_test.shape"
      ],
      "metadata": {
        "colab": {
          "base_uri": "https://localhost:8080/"
        },
        "id": "y13hRUNQefW5",
        "outputId": "166b9fe6-bc0c-42ed-b2da-575fbbe47593"
      },
      "execution_count": 14,
      "outputs": [
        {
          "output_type": "execute_result",
          "data": {
            "text/plain": [
              "((80,), (20,))"
            ]
          },
          "metadata": {},
          "execution_count": 14
        }
      ]
    },
    {
      "cell_type": "code",
      "source": [
        "a_train"
      ],
      "metadata": {
        "colab": {
          "base_uri": "https://localhost:8080/"
        },
        "id": "r3ADI7Lset2v",
        "outputId": "360ac5a2-3bc9-4889-f44e-6037abf17c36"
      },
      "execution_count": 15,
      "outputs": [
        {
          "output_type": "execute_result",
          "data": {
            "text/plain": [
              "array([ 14,   7,  19,  96,  33,  42,  98,  64,  55,  97,  57,  27,  32,\n",
              "        31,  51,  76,  12,  46,  71,  95,  88,  47,  53,  43,   1,  72,\n",
              "        25,  99,  61,  92,  86,   9,  17,  78,  20,  41,   5,  67,   3,\n",
              "        45,  68,   6,  24,  11,  59,  58,  16,  66,  93,  10, 100,  34,\n",
              "        87,  29,  90,  23,   8,  35,  70,  77,  44,  89,  54,  81,  91,\n",
              "        15,  48,  18,  69,  30,  73,  50,  82,  94,  62,  21,  60,  40,\n",
              "        79,  36])"
            ]
          },
          "metadata": {},
          "execution_count": 15
        }
      ]
    },
    {
      "cell_type": "code",
      "source": [
        "a_test"
      ],
      "metadata": {
        "colab": {
          "base_uri": "https://localhost:8080/"
        },
        "id": "UV-wPgqZezDP",
        "outputId": "3b30b077-d21c-4af2-87fc-723e754509ac"
      },
      "execution_count": 19,
      "outputs": [
        {
          "output_type": "execute_result",
          "data": {
            "text/plain": [
              "array([85,  2, 52, 83, 22, 13, 56, 74, 65, 49,  4, 63, 38, 28, 80, 84, 26,\n",
              "       75, 39, 37])"
            ]
          },
          "metadata": {},
          "execution_count": 19
        }
      ]
    }
  ]
}