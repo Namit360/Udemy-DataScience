{
  "nbformat": 4,
  "nbformat_minor": 0,
  "metadata": {
    "colab": {
      "provenance": []
    },
    "kernelspec": {
      "name": "python3",
      "display_name": "Python 3"
    },
    "language_info": {
      "name": "python"
    }
  },
  "cells": [
    {
      "cell_type": "code",
      "execution_count": 1,
      "metadata": {
        "id": "-NKhGGqeWYiV"
      },
      "outputs": [],
      "source": [
        "import numpy as np"
      ]
    },
    {
      "cell_type": "markdown",
      "source": [
        "## Addition"
      ],
      "metadata": {
        "id": "RmLDQnXjgypa"
      }
    },
    {
      "cell_type": "code",
      "source": [
        "t1 = np.array([[5,8,3],[9,4,2]])\n",
        "t1"
      ],
      "metadata": {
        "colab": {
          "base_uri": "https://localhost:8080/"
        },
        "id": "VB1zd6uCgyZe",
        "outputId": "6b8807a3-703d-490e-95a5-392bbb380a14"
      },
      "execution_count": 2,
      "outputs": [
        {
          "output_type": "execute_result",
          "data": {
            "text/plain": [
              "array([[5, 8, 3],\n",
              "       [9, 4, 2]])"
            ]
          },
          "metadata": {},
          "execution_count": 2
        }
      ]
    },
    {
      "cell_type": "code",
      "source": [
        "t2 = np.array([[3,6,9],[7,5,3]])\n",
        "t2"
      ],
      "metadata": {
        "colab": {
          "base_uri": "https://localhost:8080/"
        },
        "id": "CwSgiaA2gwJs",
        "outputId": "860a7b46-805e-4b76-c40f-1aacfd96e4aa"
      },
      "execution_count": 3,
      "outputs": [
        {
          "output_type": "execute_result",
          "data": {
            "text/plain": [
              "array([[3, 6, 9],\n",
              "       [7, 5, 3]])"
            ]
          },
          "metadata": {},
          "execution_count": 3
        }
      ]
    },
    {
      "cell_type": "code",
      "source": [
        "t1+t2"
      ],
      "metadata": {
        "colab": {
          "base_uri": "https://localhost:8080/"
        },
        "id": "sWNSfEpygqjl",
        "outputId": "0f25fe01-834b-4c63-f30b-fa915c0e5066"
      },
      "execution_count": 7,
      "outputs": [
        {
          "output_type": "execute_result",
          "data": {
            "text/plain": [
              "array([[ 8, 14, 12],\n",
              "       [16,  9,  5]])"
            ]
          },
          "metadata": {},
          "execution_count": 7
        }
      ]
    },
    {
      "cell_type": "markdown",
      "source": [
        "##Substraction"
      ],
      "metadata": {
        "id": "ZySAKr12g7kO"
      }
    },
    {
      "cell_type": "markdown",
      "source": [
        "###Example 1"
      ],
      "metadata": {
        "id": "JBfbGgEWkSL2"
      }
    },
    {
      "cell_type": "code",
      "source": [
        "a1 = np.array([[8,3],[9,4]])\n",
        "a1"
      ],
      "metadata": {
        "colab": {
          "base_uri": "https://localhost:8080/"
        },
        "id": "VsKnHCP9g-Nc",
        "outputId": "e3685d51-1635-4b9b-b636-a945fb2c3efb"
      },
      "execution_count": 8,
      "outputs": [
        {
          "output_type": "execute_result",
          "data": {
            "text/plain": [
              "array([[8, 3],\n",
              "       [9, 4]])"
            ]
          },
          "metadata": {},
          "execution_count": 8
        }
      ]
    },
    {
      "cell_type": "code",
      "source": [
        "a2 = np.array([[6,9],[7,3]])\n",
        "a2"
      ],
      "metadata": {
        "colab": {
          "base_uri": "https://localhost:8080/"
        },
        "id": "4HlYNiN8iXhc",
        "outputId": "cfec0c08-63bd-4f4d-f1ba-b91884109a09"
      },
      "execution_count": 9,
      "outputs": [
        {
          "output_type": "execute_result",
          "data": {
            "text/plain": [
              "array([[6, 9],\n",
              "       [7, 3]])"
            ]
          },
          "metadata": {},
          "execution_count": 9
        }
      ]
    },
    {
      "cell_type": "code",
      "source": [
        "a1-a2"
      ],
      "metadata": {
        "colab": {
          "base_uri": "https://localhost:8080/"
        },
        "id": "wpbtj8vWkO_F",
        "outputId": "2898bd7e-aef6-46f4-e88b-35decea212b7"
      },
      "execution_count": 10,
      "outputs": [
        {
          "output_type": "execute_result",
          "data": {
            "text/plain": [
              "array([[ 2, -6],\n",
              "       [ 2,  1]])"
            ]
          },
          "metadata": {},
          "execution_count": 10
        }
      ]
    },
    {
      "cell_type": "code",
      "source": [],
      "metadata": {
        "id": "dw5g-6C6kYSV"
      },
      "execution_count": null,
      "outputs": []
    },
    {
      "cell_type": "markdown",
      "source": [
        "###Example23"
      ],
      "metadata": {
        "id": "GO5eyPh1kkdE"
      }
    },
    {
      "cell_type": "code",
      "source": [
        "a3 = np.array([[8.9,53,0.88],[96.9,22,4]])\n",
        "a3"
      ],
      "metadata": {
        "colab": {
          "base_uri": "https://localhost:8080/"
        },
        "id": "-N7iNarqkmdK",
        "outputId": "1039e23e-01a8-4020-8c6a-83afb7cb6d5f"
      },
      "execution_count": 11,
      "outputs": [
        {
          "output_type": "execute_result",
          "data": {
            "text/plain": [
              "array([[ 8.9 , 53.  ,  0.88],\n",
              "       [96.9 , 22.  ,  4.  ]])"
            ]
          },
          "metadata": {},
          "execution_count": 11
        }
      ]
    },
    {
      "cell_type": "code",
      "source": [
        "a4 = np.array([[1.8,0.3,5],[7,9,4]])\n",
        "a4"
      ],
      "metadata": {
        "colab": {
          "base_uri": "https://localhost:8080/"
        },
        "id": "T-ZUkThcky3i",
        "outputId": "a59cf5e4-93c9-4fd7-b58b-674a077baedd"
      },
      "execution_count": 12,
      "outputs": [
        {
          "output_type": "execute_result",
          "data": {
            "text/plain": [
              "array([[1.8, 0.3, 5. ],\n",
              "       [7. , 9. , 4. ]])"
            ]
          },
          "metadata": {},
          "execution_count": 12
        }
      ]
    },
    {
      "cell_type": "code",
      "source": [
        "a3-a4"
      ],
      "metadata": {
        "colab": {
          "base_uri": "https://localhost:8080/"
        },
        "id": "v22zUTq8k7hE",
        "outputId": "a9743817-775a-4cb5-848a-9859f2bfee0e"
      },
      "execution_count": 13,
      "outputs": [
        {
          "output_type": "execute_result",
          "data": {
            "text/plain": [
              "array([[ 7.1 , 52.7 , -4.12],\n",
              "       [89.9 , 13.  ,  0.  ]])"
            ]
          },
          "metadata": {},
          "execution_count": 13
        }
      ]
    },
    {
      "cell_type": "code",
      "source": [],
      "metadata": {
        "id": "FGWlTXDCk9Mw"
      },
      "execution_count": null,
      "outputs": []
    }
  ]
}